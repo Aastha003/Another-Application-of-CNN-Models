{
 "cells": [
  {
   "cell_type": "code",
   "execution_count": null,
   "id": "3f23b70b",
   "metadata": {
    "colab": {
     "base_uri": "https://localhost:8080/"
    },
    "id": "3f23b70b",
    "outputId": "239c40b2-f79f-45ca-bc5e-77263b1fbcb1"
   },
   "outputs": [
    {
     "name": "stdout",
     "output_type": "stream",
     "text": [
      "2.8.0\n"
     ]
    }
   ],
   "source": [
    "import tensorflow as tf\n",
    "\n",
    "# Display the version\n",
    "print(tf.__version__)\n",
    "\n",
    "# other imports\n",
    "import numpy as np\n",
    "import matplotlib.pyplot as plt\n",
    "from tensorflow.keras.layers import Input, Conv2D, Dense, Flatten, Dropout\n",
    "from tensorflow.keras.layers import GlobalMaxPooling2D, MaxPooling2D\n",
    "from tensorflow.keras.layers import BatchNormalization\n",
    "from tensorflow.keras.models import Model\n",
    "from keras.preprocessing.image import ImageDataGenerator\n",
    "import os, shutil\n",
    "import cv2\n",
    "from tensorflow.keras import optimizers"
   ]
  },
  {
   "cell_type": "code",
   "execution_count": null,
   "id": "c7d366d5",
   "metadata": {
    "colab": {
     "base_uri": "https://localhost:8080/"
    },
    "id": "c7d366d5",
    "outputId": "659c0e08-b8d3-4eb1-bd72-ffe895e02b6b"
   },
   "outputs": [
    {
     "name": "stdout",
     "output_type": "stream",
     "text": [
      "Downloading data from https://www.cs.toronto.edu/~kriz/cifar-10-python.tar.gz\n",
      "170500096/170498071 [==============================] - 2s 0us/step\n",
      "170508288/170498071 [==============================] - 2s 0us/step\n",
      "(50000, 32, 32, 3) (50000, 1) (10000, 32, 32, 3) (10000, 1)\n"
     ]
    }
   ],
   "source": [
    "# Load in the data\n",
    "cifar10 = tf.keras.datasets.cifar10\n",
    "\n",
    "# Distribute it to train and test set\n",
    "(x_train, y_train), (x_test, y_test) = cifar10.load_data()\n",
    "print(x_train.shape, y_train.shape, x_test.shape, y_test.shape)"
   ]
  },
  {
   "cell_type": "code",
   "execution_count": null,
   "id": "35bd72bb",
   "metadata": {
    "id": "35bd72bb"
   },
   "outputs": [],
   "source": [
    "# Reduce pixel values\n",
    "x_train, x_test = x_train / 255.0, x_test / 255.0\n",
    "\n",
    "# flatten the label values\n",
    "y_train, y_test = y_train.flatten(), y_test.flatten()"
   ]
  },
  {
   "cell_type": "code",
   "execution_count": null,
   "id": "fc52c075",
   "metadata": {
    "colab": {
     "base_uri": "https://localhost:8080/"
    },
    "id": "fc52c075",
    "outputId": "085bd048-3039-49c4-b529-8c4cb82a7c9b"
   },
   "outputs": [
    {
     "name": "stdout",
     "output_type": "stream",
     "text": [
      "number of classes: 10\n",
      "Model: \"model\"\n",
      "_________________________________________________________________\n",
      " Layer (type)                Output Shape              Param #   \n",
      "=================================================================\n",
      " input_1 (InputLayer)        [(None, 32, 32, 3)]       0         \n",
      "                                                                 \n",
      " conv2d (Conv2D)             (None, 32, 32, 64)        1792      \n",
      "                                                                 \n",
      " batch_normalization (BatchN  (None, 32, 32, 64)       256       \n",
      " ormalization)                                                   \n",
      "                                                                 \n",
      " conv2d_1 (Conv2D)           (None, 32, 32, 64)        36928     \n",
      "                                                                 \n",
      " batch_normalization_1 (Batc  (None, 32, 32, 64)       256       \n",
      " hNormalization)                                                 \n",
      "                                                                 \n",
      " max_pooling2d (MaxPooling2D  (None, 16, 16, 64)       0         \n",
      " )                                                               \n",
      "                                                                 \n",
      " conv2d_2 (Conv2D)           (None, 16, 16, 32)        18464     \n",
      "                                                                 \n",
      " batch_normalization_2 (Batc  (None, 16, 16, 32)       128       \n",
      " hNormalization)                                                 \n",
      "                                                                 \n",
      " conv2d_3 (Conv2D)           (None, 16, 16, 32)        9248      \n",
      "                                                                 \n",
      " batch_normalization_3 (Batc  (None, 16, 16, 32)       128       \n",
      " hNormalization)                                                 \n",
      "                                                                 \n",
      " max_pooling2d_1 (MaxPooling  (None, 8, 8, 32)         0         \n",
      " 2D)                                                             \n",
      "                                                                 \n",
      " flatten (Flatten)           (None, 2048)              0         \n",
      "                                                                 \n",
      " dropout (Dropout)           (None, 2048)              0         \n",
      "                                                                 \n",
      " dense (Dense)               (None, 1024)              2098176   \n",
      "                                                                 \n",
      " dropout_1 (Dropout)         (None, 1024)              0         \n",
      "                                                                 \n",
      " dense_1 (Dense)             (None, 10)                10250     \n",
      "                                                                 \n",
      "=================================================================\n",
      "Total params: 2,175,626\n",
      "Trainable params: 2,175,242\n",
      "Non-trainable params: 384\n",
      "_________________________________________________________________\n"
     ]
    }
   ],
   "source": [
    "# number of classes\n",
    "K = len(set(y_train))\n",
    "\n",
    "# calculate total number of classes\n",
    "# for output layer\n",
    "print(\"number of classes:\", K)\n",
    "\n",
    "# Build the model\n",
    "# input layer\n",
    "i = Input(shape=x_train[0].shape)\n",
    "x = Conv2D(32, (3, 3), activation='relu', padding='same')(i)\n",
    "x = BatchNormalization()(x)\n",
    "x = Conv2D(32, (3, 3), activation='tanh', padding='same')(x)\n",
    "x = BatchNormalization()(x)\n",
    "x = MaxPooling2D((2, 2))(x)\n",
    "\n",
    "x = Conv2D(32, (3, 3), activation='relu', padding='same')(x)\n",
    "x = BatchNormalization()(x)\n",
    "x = Conv2D(32, (3, 3), activation='tanh', padding='same')(x)\n",
    "x = BatchNormalization()(x)\n",
    "x = MaxPooling2D((2, 2))(x)\n",
    "\n",
    "x = Flatten()(x)\n",
    "x = Dropout(0.2)(x)\n",
    "\n",
    "# Hidden layer\n",
    "x = Dense(1024, activation='relu')(x)\n",
    "x = Dropout(0.2)(x)\n",
    "\n",
    "# last hidden layer i.e.. output layer\n",
    "x = Dense(10, activation='softmax')(x)\n",
    "\n",
    "model = Model(i, x)\n",
    "\n",
    "# model description\n",
    "model.summary()"
   ]
  },
  {
   "cell_type": "code",
   "execution_count": 6,
   "id": "bYiM6vCZ8ewK",
   "metadata": {
    "colab": {
     "base_uri": "https://localhost:8080/"
    },
    "id": "bYiM6vCZ8ewK",
    "outputId": "7cdcca84-ef4d-41f9-fdb0-1f89b3625158"
   },
   "outputs": [
    {
     "metadata": {
      "tags": null
     },
     "name": "stderr",
     "output_type": "stream",
     "text": [
      "/usr/local/lib/python3.7/dist-packages/keras/optimizer_v2/rmsprop.py:130: UserWarning: The `lr` argument is deprecated, use `learning_rate` instead.\n",
      "  super(RMSprop, self).__init__(name, **kwargs)\n"
     ]
    },
    {
     "name": "stdout",
     "output_type": "stream",
     "text": [
      "Epoch 1/10\n",
      "1250/1250 [==============================] - 422s 336ms/step - loss: 1.5145 - accuracy: 0.4832 - val_loss: 14.6313 - val_accuracy: 0.1031\n",
      "Epoch 2/10\n",
      "1250/1250 [==============================] - 421s 337ms/step - loss: 1.0777 - accuracy: 0.6251 - val_loss: 10.5103 - val_accuracy: 0.1500\n",
      "Epoch 3/10\n",
      "1250/1250 [==============================] - 422s 337ms/step - loss: 0.9624 - accuracy: 0.6730 - val_loss: 16.5325 - val_accuracy: 0.1547\n",
      "Epoch 4/10\n",
      "1250/1250 [==============================] - 421s 336ms/step - loss: 0.8833 - accuracy: 0.6994 - val_loss: 19.7503 - val_accuracy: 0.1000\n",
      "Epoch 5/10\n",
      "1250/1250 [==============================] - 419s 335ms/step - loss: 0.8404 - accuracy: 0.7112 - val_loss: 13.8435 - val_accuracy: 0.1328\n",
      "Epoch 6/10\n",
      "1250/1250 [==============================] - 427s 341ms/step - loss: 0.7568 - accuracy: 0.7427 - val_loss: 11.9249 - val_accuracy: 0.0953\n",
      "Epoch 7/10\n",
      "1250/1250 [==============================] - 427s 342ms/step - loss: 0.7342 - accuracy: 0.7484 - val_loss: 5.0220 - val_accuracy: 0.1266\n",
      "Epoch 8/10\n",
      "1250/1250 [==============================] - 428s 343ms/step - loss: 0.6677 - accuracy: 0.7692 - val_loss: 25.5839 - val_accuracy: 0.1453\n",
      "Epoch 9/10\n",
      "1250/1250 [==============================] - 426s 341ms/step - loss: 0.6190 - accuracy: 0.7865 - val_loss: 17.3202 - val_accuracy: 0.1344\n",
      "Epoch 10/10\n",
      "1250/1250 [==============================] - 427s 342ms/step - loss: 0.5768 - accuracy: 0.7994 - val_loss: 16.3445 - val_accuracy: 0.1422\n"
     ]
    }
   ],
   "source": [
    "# Compile\n",
    "rms = optimizers.RMSprop(lr=0.001, rho=0.9, epsilon=1e-08, decay=0.0)\n",
    "model.compile(loss='sparse_categorical_crossentropy', optimizer=rms, metrics=['accuracy'])\n",
    "\n",
    "\n",
    "# Fit with data augmentation\n",
    "train_datagen = ImageDataGenerator(rescale=1./255,\n",
    "    horizontal_flip=True,\n",
    "    validation_split=0.2) # set validation split\n",
    "\n",
    "batch_size = 32\n",
    "\n",
    "training_generator = train_datagen.flow(x_train, y_train, batch_size=32,subset='training')\n",
    "validation_generator = train_datagen.flow(x_train, y_train, batch_size=32,subset='validation')\n",
    "\n",
    "steps_per_epoch = (x_train.shape[0] - 10000) // batch_size\n",
    "\n",
    "r = model.fit(\n",
    "    training_generator,\n",
    "    steps_per_epoch = steps_per_epoch,\n",
    "    validation_data = validation_generator, \n",
    "    validation_steps = 20,\n",
    "    epochs = 10)"
   ]
  },
  {
   "cell_type": "code",
   "execution_count": 7,
   "id": "Ow7dg-CcOFty",
   "metadata": {
    "colab": {
     "base_uri": "https://localhost:8080/",
     "height": 300
    },
    "id": "Ow7dg-CcOFty",
    "outputId": "04ee8eb7-ceec-4039-e160-5f3b5b153955"
   },
   "outputs": [
    {
     "name": "stdout",
     "output_type": "stream",
     "text": [
      "313/313 [==============================] - 34s 104ms/step - loss: 5.4663 - accuracy: 0.1985\n",
      "Test accuracy: 0.19850000739097595\n"
     ]
    },
    {
     "data": {
      "image/png": "[encoded data removed]",
      "text/plain": [
       "<Figure size 432x288 with 1 Axes>"
      ]
     },
     "metadata": {
      "needs_background": "light"
     },
     "output_type": "display_data"
    }
   ],
   "source": [
    "# Plot accuracy per iteration\n",
    "\n",
    "score = model.evaluate(x_test, y_test)\n",
    "plt.plot(r.history['accuracy'], label='acc', color='red')\n",
    "plt.plot(r.history['val_accuracy'], label='val_acc', color='green')\n",
    "plt.legend()\n",
    "\n",
    "print('Test accuracy:', score[1])"
   ]
  }
 ],
 "metadata": {
  "colab": {
   "name": "Assignment 7_3_029357001.ipynb",
   "provenance": []
  },
  "kernelspec": {
   "display_name": "Python 3 (ipykernel)",
   "language": "python",
   "name": "python3"
  },
  "language_info": {
   "codemirror_mode": {
    "name": "ipython",
    "version": 3
   },
   "file_extension": ".py",
   "mimetype": "text/x-python",
   "name": "python",
   "nbconvert_exporter": "python",
   "pygments_lexer": "ipython3",
   "version": "3.9.7"
  }
 },
 "nbformat": 4,
 "nbformat_minor": 5
}
